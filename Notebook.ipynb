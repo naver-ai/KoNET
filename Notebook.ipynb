{
 "cells": [
  {
   "cell_type": "markdown",
   "metadata": {},
   "source": [
    "### generate_KoNET"
   ]
  },
  {
   "cell_type": "code",
   "execution_count": 1,
   "metadata": {},
   "outputs": [
    {
     "name": "stderr",
     "output_type": "stream",
     "text": [
      "[1/3] Downloading files: 100%|██████████| 72/72 [00:18<00:00,  4.00it/s]\n",
      "[2/3] Converting PDFs to images: 100%|██████████| 100/100 [01:42<00:00,  1.02s/it]\n",
      "[3/3] Extracting problem images: 100%|██████████| 2377/2377 [02:26<00:00, 16.23it/s]\n"
     ]
    },
    {
     "data": {
      "text/html": [
       "<div>\n",
       "<style scoped>\n",
       "    .dataframe tbody tr th:only-of-type {\n",
       "        vertical-align: middle;\n",
       "    }\n",
       "\n",
       "    .dataframe tbody tr th {\n",
       "        vertical-align: top;\n",
       "    }\n",
       "\n",
       "    .dataframe thead th {\n",
       "        text-align: right;\n",
       "    }\n",
       "</style>\n",
       "<table border=\"1\" class=\"dataframe\">\n",
       "  <thead>\n",
       "    <tr style=\"text-align: right;\">\n",
       "      <th></th>\n",
       "      <th>idx</th>\n",
       "      <th>img_path</th>\n",
       "      <th>problem_type</th>\n",
       "      <th>problem_point</th>\n",
       "      <th>problem_answer</th>\n",
       "      <th>problem_error</th>\n",
       "    </tr>\n",
       "  </thead>\n",
       "  <tbody>\n",
       "    <tr>\n",
       "      <th>0</th>\n",
       "      <td>koeged_1st_Art_01</td>\n",
       "      <td>data/images_problem/koeged_1st_Art_01.png</td>\n",
       "      <td>4</td>\n",
       "      <td></td>\n",
       "      <td>2</td>\n",
       "      <td></td>\n",
       "    </tr>\n",
       "    <tr>\n",
       "      <th>1</th>\n",
       "      <td>koeged_1st_Art_02</td>\n",
       "      <td>data/images_problem/koeged_1st_Art_02.png</td>\n",
       "      <td>4</td>\n",
       "      <td></td>\n",
       "      <td>1</td>\n",
       "      <td></td>\n",
       "    </tr>\n",
       "    <tr>\n",
       "      <th>2</th>\n",
       "      <td>koeged_1st_Art_03</td>\n",
       "      <td>data/images_problem/koeged_1st_Art_03.png</td>\n",
       "      <td>3</td>\n",
       "      <td></td>\n",
       "      <td>4</td>\n",
       "      <td></td>\n",
       "    </tr>\n",
       "    <tr>\n",
       "      <th>3</th>\n",
       "      <td>koeged_1st_Art_04</td>\n",
       "      <td>data/images_problem/koeged_1st_Art_04.png</td>\n",
       "      <td>1</td>\n",
       "      <td></td>\n",
       "      <td>4</td>\n",
       "      <td></td>\n",
       "    </tr>\n",
       "    <tr>\n",
       "      <th>4</th>\n",
       "      <td>koeged_1st_Art_05</td>\n",
       "      <td>data/images_problem/koeged_1st_Art_05.png</td>\n",
       "      <td>2</td>\n",
       "      <td></td>\n",
       "      <td>1</td>\n",
       "      <td></td>\n",
       "    </tr>\n",
       "    <tr>\n",
       "      <th>...</th>\n",
       "      <td>...</td>\n",
       "      <td>...</td>\n",
       "      <td>...</td>\n",
       "      <td>...</td>\n",
       "      <td>...</td>\n",
       "      <td>...</td>\n",
       "    </tr>\n",
       "    <tr>\n",
       "      <th>2372</th>\n",
       "      <td>kocsat_1st_WorldHistory_16</td>\n",
       "      <td>data/images_problem/kocsat_1st_WorldHistory_16...</td>\n",
       "      <td>2</td>\n",
       "      <td>2</td>\n",
       "      <td>3</td>\n",
       "      <td>59.1</td>\n",
       "    </tr>\n",
       "    <tr>\n",
       "      <th>2373</th>\n",
       "      <td>kocsat_1st_WorldHistory_17</td>\n",
       "      <td>data/images_problem/kocsat_1st_WorldHistory_17...</td>\n",
       "      <td>4</td>\n",
       "      <td>3</td>\n",
       "      <td>2</td>\n",
       "      <td></td>\n",
       "    </tr>\n",
       "    <tr>\n",
       "      <th>2374</th>\n",
       "      <td>kocsat_1st_WorldHistory_18</td>\n",
       "      <td>data/images_problem/kocsat_1st_WorldHistory_18...</td>\n",
       "      <td>2</td>\n",
       "      <td>3</td>\n",
       "      <td>4</td>\n",
       "      <td>57.0</td>\n",
       "    </tr>\n",
       "    <tr>\n",
       "      <th>2375</th>\n",
       "      <td>kocsat_1st_WorldHistory_19</td>\n",
       "      <td>data/images_problem/kocsat_1st_WorldHistory_19...</td>\n",
       "      <td>2</td>\n",
       "      <td>2</td>\n",
       "      <td>2</td>\n",
       "      <td>52.2</td>\n",
       "    </tr>\n",
       "    <tr>\n",
       "      <th>2376</th>\n",
       "      <td>kocsat_1st_WorldHistory_20</td>\n",
       "      <td>data/images_problem/kocsat_1st_WorldHistory_20...</td>\n",
       "      <td>4</td>\n",
       "      <td>2</td>\n",
       "      <td>3</td>\n",
       "      <td></td>\n",
       "    </tr>\n",
       "  </tbody>\n",
       "</table>\n",
       "<p>2377 rows × 6 columns</p>\n",
       "</div>"
      ],
      "text/plain": [
       "                             idx  \\\n",
       "0              koeged_1st_Art_01   \n",
       "1              koeged_1st_Art_02   \n",
       "2              koeged_1st_Art_03   \n",
       "3              koeged_1st_Art_04   \n",
       "4              koeged_1st_Art_05   \n",
       "...                          ...   \n",
       "2372  kocsat_1st_WorldHistory_16   \n",
       "2373  kocsat_1st_WorldHistory_17   \n",
       "2374  kocsat_1st_WorldHistory_18   \n",
       "2375  kocsat_1st_WorldHistory_19   \n",
       "2376  kocsat_1st_WorldHistory_20   \n",
       "\n",
       "                                               img_path problem_type  \\\n",
       "0             data/images_problem/koeged_1st_Art_01.png            4   \n",
       "1             data/images_problem/koeged_1st_Art_02.png            4   \n",
       "2             data/images_problem/koeged_1st_Art_03.png            3   \n",
       "3             data/images_problem/koeged_1st_Art_04.png            1   \n",
       "4             data/images_problem/koeged_1st_Art_05.png            2   \n",
       "...                                                 ...          ...   \n",
       "2372  data/images_problem/kocsat_1st_WorldHistory_16...            2   \n",
       "2373  data/images_problem/kocsat_1st_WorldHistory_17...            4   \n",
       "2374  data/images_problem/kocsat_1st_WorldHistory_18...            2   \n",
       "2375  data/images_problem/kocsat_1st_WorldHistory_19...            2   \n",
       "2376  data/images_problem/kocsat_1st_WorldHistory_20...            4   \n",
       "\n",
       "     problem_point problem_answer problem_error  \n",
       "0                               2                \n",
       "1                               1                \n",
       "2                               4                \n",
       "3                               4                \n",
       "4                               1                \n",
       "...            ...            ...           ...  \n",
       "2372             2              3          59.1  \n",
       "2373             3              2                \n",
       "2374             3              4          57.0  \n",
       "2375             2              2          52.2  \n",
       "2376             2              3                \n",
       "\n",
       "[2377 rows x 6 columns]"
      ]
     },
     "metadata": {},
     "output_type": "display_data"
    }
   ],
   "source": [
    "from src.generator import generate_KoNET\n",
    "dataset = generate_KoNET()\n",
    "display(dataset)"
   ]
  },
  {
   "cell_type": "markdown",
   "metadata": {},
   "source": [
    "### evaluate_KoNET"
   ]
  },
  {
   "cell_type": "code",
   "execution_count": null,
   "metadata": {},
   "outputs": [],
   "source": [
    "import os\n",
    "os.environ[\"OPENAI_KEY\"] = \"\""
   ]
  },
  {
   "cell_type": "code",
   "execution_count": 3,
   "metadata": {},
   "outputs": [
    {
     "name": "stderr",
     "output_type": "stream",
     "text": [
      "Evaluating submissions: 100%|██████████| 2377/2377 [02:38<00:00, 14.99it/s]"
     ]
    },
    {
     "name": "stdout",
     "output_type": "stream",
     "text": [
      "==============================\n",
      "KoNET Acc: 51.89% (55/106)\n",
      "- KoEGED Acc: 75.00% (15/20)\n",
      "- KoMGED Acc: 65.00% (13/20)\n",
      "- KoHGED Acc: 60.00% (12/20)\n",
      "- KoCSAT Acc: 32.61% (15/46)\n",
      "==============================\n"
     ]
    },
    {
     "name": "stderr",
     "output_type": "stream",
     "text": [
      "\n"
     ]
    }
   ],
   "source": [
    "from src.evaluator import evaluate_KoNET\n",
    "result = evaluate_KoNET(submission_filepath=\"src/utils/submission_test.json\")\n",
    "print(result)"
   ]
  }
 ],
 "metadata": {
  "kernelspec": {
   "display_name": "test_2025",
   "language": "python",
   "name": "python3"
  },
  "language_info": {
   "codemirror_mode": {
    "name": "ipython",
    "version": 3
   },
   "file_extension": ".py",
   "mimetype": "text/x-python",
   "name": "python",
   "nbconvert_exporter": "python",
   "pygments_lexer": "ipython3",
   "version": "3.9.0"
  }
 },
 "nbformat": 4,
 "nbformat_minor": 2
}
